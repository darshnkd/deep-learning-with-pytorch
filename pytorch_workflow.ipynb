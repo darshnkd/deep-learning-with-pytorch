{
  "nbformat": 4,
  "nbformat_minor": 0,
  "metadata": {
    "colab": {
      "provenance": [],
      "gpuType": "T4",
      "authorship_tag": "ABX9TyOGoI83fCQBFIskIhMVO28m",
      "include_colab_link": true
    },
    "kernelspec": {
      "name": "python3",
      "display_name": "Python 3"
    },
    "language_info": {
      "name": "python"
    },
    "accelerator": "GPU"
  },
  "cells": [
    {
      "cell_type": "markdown",
      "metadata": {
        "id": "view-in-github",
        "colab_type": "text"
      },
      "source": [
        "<a href=\"https://colab.research.google.com/github/darshnkd/deep-learning-with-pytorch/blob/main/pytorch_workflow.ipynb\" target=\"_parent\"><img src=\"https://colab.research.google.com/assets/colab-badge.svg\" alt=\"Open In Colab\"/></a>"
      ]
    },
    {
      "cell_type": "markdown",
      "source": [
        "# PyTorch workflow\n",
        "\n",
        "Let's explore an exapmle PyTorch end-to-end workflow."
      ],
      "metadata": {
        "id": "BHQEMPbdmPD-"
      }
    },
    {
      "cell_type": "code",
      "source": [
        "what_were_covering = {1:\"data (preprocess and load)\",\n",
        "                      2:\"build model\",\n",
        "                      3:\"fitting the model to data\",\n",
        "                      4:\"making predictions and evaluting a model(inference)\",\n",
        "                      5:\"saving and loading model\",\n",
        "                      6:\"putting it all\"}\n",
        "\n",
        "what_were_covering"
      ],
      "metadata": {
        "colab": {
          "base_uri": "https://localhost:8080/"
        },
        "id": "hxizML4KnOKO",
        "outputId": "7426fbef-13c4-4ba3-d462-37d805a2c6b9"
      },
      "execution_count": 3,
      "outputs": [
        {
          "output_type": "execute_result",
          "data": {
            "text/plain": [
              "{1: 'data (preprocess and load)',\n",
              " 2: 'build model',\n",
              " 3: 'fitting the model to data',\n",
              " 4: 'making predictions and evaluting a model(inference)',\n",
              " 5: 'saving and loading model',\n",
              " 6: 'putting it all'}"
            ]
          },
          "metadata": {},
          "execution_count": 3
        }
      ]
    },
    {
      "cell_type": "code",
      "source": [
        "import torch\n",
        "from torch import nn # nn contain all of PyTorch's building blocks of nn graph\n",
        "import matplotlib.pyplot as plt\n",
        "\n",
        "# check PyTorch version\n",
        "torch.__version__"
      ],
      "metadata": {
        "colab": {
          "base_uri": "https://localhost:8080/",
          "height": 35
        },
        "id": "na3UgEEJoUoQ",
        "outputId": "331cfc07-b481-4ab5-9cf4-6d69c8f8761d"
      },
      "execution_count": 4,
      "outputs": [
        {
          "output_type": "execute_result",
          "data": {
            "text/plain": [
              "'2.4.0+cu121'"
            ],
            "application/vnd.google.colaboratory.intrinsic+json": {
              "type": "string"
            }
          },
          "metadata": {},
          "execution_count": 4
        }
      ]
    },
    {
      "cell_type": "markdown",
      "source": [
        "## 1. Data (preparing and loading)\n",
        "\n",
        "Data can be almost anything ... in machine learning\n",
        "\n",
        "* Excel speadsheet\n",
        "* Images of any kind\n",
        "* Video (YouTube has lots of data)\n",
        "* Audio like song or podcast\n",
        "* DNA\n",
        "* Text\n",
        "\n",
        "Machine learning is a game of two parts :\n",
        "1. Get data into numerical representation\n",
        "2. Build a model to learn patterns in that numerical representation.\n",
        "\n",
        "To showcase this, let's create some **known** data using the linear regression formula.\n",
        "\n",
        "We'll use a linear regression formula to make a straight line with **known** parameters."
      ],
      "metadata": {
        "id": "9HA4hbpYpLVr"
      }
    },
    {
      "cell_type": "code",
      "source": [
        "# Create known parameters\n",
        "weight = 0.7\n",
        "bias = 0.3\n",
        "\n",
        "# Create\n",
        "start = 0\n",
        "end = 1\n",
        "step = 0.02\n",
        "X = torch.arange(start,end,step).unsqueeze(dim=1)\n",
        "y = weight * X + bias\n",
        "\n",
        "X[:10],y[:10]"
      ],
      "metadata": {
        "colab": {
          "base_uri": "https://localhost:8080/"
        },
        "id": "xUahlHJEqm5G",
        "outputId": "341e72d3-3620-48bb-dbfc-f81550ddfcb4"
      },
      "execution_count": 5,
      "outputs": [
        {
          "output_type": "execute_result",
          "data": {
            "text/plain": [
              "(tensor([[0.0000],\n",
              "         [0.0200],\n",
              "         [0.0400],\n",
              "         [0.0600],\n",
              "         [0.0800],\n",
              "         [0.1000],\n",
              "         [0.1200],\n",
              "         [0.1400],\n",
              "         [0.1600],\n",
              "         [0.1800]]),\n",
              " tensor([[0.3000],\n",
              "         [0.3140],\n",
              "         [0.3280],\n",
              "         [0.3420],\n",
              "         [0.3560],\n",
              "         [0.3700],\n",
              "         [0.3840],\n",
              "         [0.3980],\n",
              "         [0.4120],\n",
              "         [0.4260]]))"
            ]
          },
          "metadata": {},
          "execution_count": 5
        }
      ]
    },
    {
      "cell_type": "code",
      "source": [
        "len(X),len(y)"
      ],
      "metadata": {
        "colab": {
          "base_uri": "https://localhost:8080/"
        },
        "id": "dRiuHuE6uFGC",
        "outputId": "d3f8ec31-6ac3-4b23-99a2-f834c87eba38"
      },
      "execution_count": 6,
      "outputs": [
        {
          "output_type": "execute_result",
          "data": {
            "text/plain": [
              "(50, 50)"
            ]
          },
          "metadata": {},
          "execution_count": 6
        }
      ]
    },
    {
      "cell_type": "markdown",
      "source": [
        "###Spliting data into training and test set(one of the most important concept in machine learning in general)"
      ],
      "metadata": {
        "id": "h-ycZ5TTuXBJ"
      }
    },
    {
      "cell_type": "code",
      "source": [
        "#import matplotlib.pyplot as plt # Import the matplotlib library\n",
        "\n",
        "# Create train / test set\n",
        "train_set = int(0.8 * len(X))\n",
        "X_train,y_train = X[:train_set],y[:train_set]\n",
        "X_test ,y_test = X[train_set:], y[train_set:]\n",
        "\n",
        "len(X_train),len(y_train),len(X_test),len(y_test)"
      ],
      "metadata": {
        "colab": {
          "base_uri": "https://localhost:8080/"
        },
        "id": "h_QQqtjHzVQf",
        "outputId": "3c36ea60-a633-4a7c-cc88-d6d737f590cf"
      },
      "execution_count": 7,
      "outputs": [
        {
          "output_type": "execute_result",
          "data": {
            "text/plain": [
              "(40, 40, 10, 10)"
            ]
          },
          "metadata": {},
          "execution_count": 7
        }
      ]
    },
    {
      "cell_type": "markdown",
      "source": [
        "How might we visulize this data?\n",
        "\n",
        "this is where the data explorer's motto comes in !\n",
        "\n",
        "\"Visualize, visualize , visualize !\""
      ],
      "metadata": {
        "id": "ldyF5FmY1ryu"
      }
    },
    {
      "cell_type": "code",
      "source": [
        "X_train , y_train"
      ],
      "metadata": {
        "colab": {
          "base_uri": "https://localhost:8080/"
        },
        "id": "M1aGZFUMhm7q",
        "outputId": "22abf373-4ca4-4112-b204-1b9834a71986",
        "collapsed": true
      },
      "execution_count": 8,
      "outputs": [
        {
          "output_type": "execute_result",
          "data": {
            "text/plain": [
              "(tensor([[0.0000],\n",
              "         [0.0200],\n",
              "         [0.0400],\n",
              "         [0.0600],\n",
              "         [0.0800],\n",
              "         [0.1000],\n",
              "         [0.1200],\n",
              "         [0.1400],\n",
              "         [0.1600],\n",
              "         [0.1800],\n",
              "         [0.2000],\n",
              "         [0.2200],\n",
              "         [0.2400],\n",
              "         [0.2600],\n",
              "         [0.2800],\n",
              "         [0.3000],\n",
              "         [0.3200],\n",
              "         [0.3400],\n",
              "         [0.3600],\n",
              "         [0.3800],\n",
              "         [0.4000],\n",
              "         [0.4200],\n",
              "         [0.4400],\n",
              "         [0.4600],\n",
              "         [0.4800],\n",
              "         [0.5000],\n",
              "         [0.5200],\n",
              "         [0.5400],\n",
              "         [0.5600],\n",
              "         [0.5800],\n",
              "         [0.6000],\n",
              "         [0.6200],\n",
              "         [0.6400],\n",
              "         [0.6600],\n",
              "         [0.6800],\n",
              "         [0.7000],\n",
              "         [0.7200],\n",
              "         [0.7400],\n",
              "         [0.7600],\n",
              "         [0.7800]]),\n",
              " tensor([[0.3000],\n",
              "         [0.3140],\n",
              "         [0.3280],\n",
              "         [0.3420],\n",
              "         [0.3560],\n",
              "         [0.3700],\n",
              "         [0.3840],\n",
              "         [0.3980],\n",
              "         [0.4120],\n",
              "         [0.4260],\n",
              "         [0.4400],\n",
              "         [0.4540],\n",
              "         [0.4680],\n",
              "         [0.4820],\n",
              "         [0.4960],\n",
              "         [0.5100],\n",
              "         [0.5240],\n",
              "         [0.5380],\n",
              "         [0.5520],\n",
              "         [0.5660],\n",
              "         [0.5800],\n",
              "         [0.5940],\n",
              "         [0.6080],\n",
              "         [0.6220],\n",
              "         [0.6360],\n",
              "         [0.6500],\n",
              "         [0.6640],\n",
              "         [0.6780],\n",
              "         [0.6920],\n",
              "         [0.7060],\n",
              "         [0.7200],\n",
              "         [0.7340],\n",
              "         [0.7480],\n",
              "         [0.7620],\n",
              "         [0.7760],\n",
              "         [0.7900],\n",
              "         [0.8040],\n",
              "         [0.8180],\n",
              "         [0.8320],\n",
              "         [0.8460]]))"
            ]
          },
          "metadata": {},
          "execution_count": 8
        }
      ]
    },
    {
      "cell_type": "code",
      "source": [
        "def plot_predictions(train_data = X_train,\n",
        "                     train_labels = y_train,\n",
        "                     test_data = X_test,\n",
        "                     test_labels = y_test,\n",
        "                     Predictions = None):\n",
        "\n",
        "  '''\n",
        "  Plot training data, test data and compares predictions.\n",
        "  '''\n",
        "\n",
        "  plt.figure(figsize=(10,8))\n",
        "  # plot training data in red\n",
        "  plt.scatter(train_data,train_labels,c=\"r\",s=4,label = \"Training Data\")\n",
        "  # plot test data in green\n",
        "  plt.scatter(test_data,test_labels,c=\"g\",s=4,label = \"Test Data\")\n",
        "  # plot prediction if they exist\n",
        "  if Predictions is not None:\n",
        "    plt.scatter(test_data,Predictions,c=\"b\",s=4,label = \"predictions\")\n",
        "\n",
        "  # show legend\n",
        "  plt.legend(prop={\"size\":10})"
      ],
      "metadata": {
        "id": "S61E4o0bgdFE"
      },
      "execution_count": 9,
      "outputs": []
    },
    {
      "cell_type": "code",
      "source": [
        "plot_predictions()"
      ],
      "metadata": {
        "colab": {
          "base_uri": "https://localhost:8080/",
          "height": 676
        },
        "id": "0ZDAn7DTjUu_",
        "outputId": "ef33271d-30c4-425d-cb41-bbf07ca34304"
      },
      "execution_count": 10,
      "outputs": [
        {
          "output_type": "display_data",
          "data": {
            "text/plain": [
              "<Figure size 1000x800 with 1 Axes>"
            ],
            "image/png": "[encoded data removed]"
          },
          "metadata": {}
        }
      ]
    },
    {
      "cell_type": "markdown",
      "source": [
        "## 2. Build model\n",
        "\n",
        "Our first PyTorch model!\n",
        "\n",
        "What our model does:\n",
        "* start with random values (weights & bias)\n",
        "* Look at training data and adjust the random values to better represent (or get closer to ) the ideal vlues(the weights & bias values we used to create the data)\n",
        "\n",
        "How does it do so ?\n",
        "\n",
        "Through two main algorithm:\n",
        "1. Gradient Decent\n",
        "2. Backpropagation"
      ],
      "metadata": {
        "id": "2dx_5oywjWyT"
      }
    },
    {
      "cell_type": "code",
      "source": [
        "# Create a linear regression model class\n",
        "class LinearRegressionModel(nn.Module): # almost everything in pytorch inherits from nn.model\n",
        "  def __init__(self):\n",
        "    super().__init__()\n",
        "    self.weights = nn.Parameter(torch.rand(1,\n",
        "                                           requires_grad=True,\n",
        "                                           dtype=torch.float))\n",
        "\n",
        "    self.bias = nn.Parameter(torch.rand(1,\n",
        "                                        requires_grad=True, # Fixed the typo here\n",
        "                                        dtype=torch.float))\n",
        "\n",
        "# Forward method to define the computation in the model\n",
        "  def forward(self,x:torch.Tensor) ->torch.Tensor: # \"x\" is the input data\n",
        "    return self.weights * x + self.bias # linear regression formula"
      ],
      "metadata": {
        "id": "e6l1FeKMmyVm"
      },
      "execution_count": 11,
      "outputs": []
    },
    {
      "cell_type": "markdown",
      "source": [
        "### 3. PyTorch model building essentials\n",
        "\n",
        "* torch.nn - contain all of the building block of computational graph\n",
        "* torch.nn.Parameter - what parameter should our model try and learn, often a PyTorch layer from torch.nn will set these for us\n",
        "* nn.Module - base class for all neural network Modules, if you subclass it, you should overwrite forward()\n",
        "* torch.optim -contain various optimization algorithms (gradient descent etc)\n",
        "* def forward() - All nn.Module subclasss require you to overwrite forward(), this method defines what happens in the forward computations"
      ],
      "metadata": {
        "id": "80chgTPCZeZm"
      }
    },
    {
      "cell_type": "markdown",
      "source": [
        "###Checking the contents of our PyTorch model\n",
        "\n",
        "Now we've created model , let's see what's inside...\n",
        "\n",
        "SO we can check our model parameters or what's inside our model using `.parameter()`."
      ],
      "metadata": {
        "id": "tLuVDpSCb0ip"
      }
    },
    {
      "cell_type": "code",
      "source": [
        "# Create a random seed\n",
        "torch.manual_seed(42)\n",
        "\n",
        "# create an instance of the model (this is subclass of model)\n",
        "model_0 = LinearRegressionModel()\n",
        "\n",
        "# check out the parameters\n",
        "list(model_0.parameters())"
      ],
      "metadata": {
        "colab": {
          "base_uri": "https://localhost:8080/"
        },
        "id": "oNl-N4Yed-JZ",
        "outputId": "7b66e1d0-e845-4f43-d686-edf304535620"
      },
      "execution_count": 12,
      "outputs": [
        {
          "output_type": "execute_result",
          "data": {
            "text/plain": [
              "[Parameter containing:\n",
              " tensor([0.8823], requires_grad=True),\n",
              " Parameter containing:\n",
              " tensor([0.9150], requires_grad=True)]"
            ]
          },
          "metadata": {},
          "execution_count": 12
        }
      ]
    },
    {
      "cell_type": "code",
      "source": [
        "# List named parameter\n",
        "model_0.state_dict()"
      ],
      "metadata": {
        "colab": {
          "base_uri": "https://localhost:8080/"
        },
        "id": "HuBP2ES2mPZ4",
        "outputId": "d6a52b6e-6900-40fb-e155-bd259a1ca1f5"
      },
      "execution_count": 13,
      "outputs": [
        {
          "output_type": "execute_result",
          "data": {
            "text/plain": [
              "OrderedDict([('weights', tensor([0.8823])), ('bias', tensor([0.9150]))])"
            ]
          },
          "metadata": {},
          "execution_count": 13
        }
      ]
    },
    {
      "cell_type": "code",
      "source": [
        "weight , bias"
      ],
      "metadata": {
        "colab": {
          "base_uri": "https://localhost:8080/"
        },
        "id": "L28OXQ6foNCU",
        "outputId": "b1ac36b6-177f-458a-84db-6a093b385485"
      },
      "execution_count": 14,
      "outputs": [
        {
          "output_type": "execute_result",
          "data": {
            "text/plain": [
              "(0.7, 0.3)"
            ]
          },
          "metadata": {},
          "execution_count": 14
        }
      ]
    },
    {
      "cell_type": "markdown",
      "source": [
        "### 4. Make predictions using `torch.inference_model()`\n",
        "\n",
        "To check our model's predictive power, let's see how well it predicts `y_test` based on `x_test`\n",
        "\n",
        "When we pass data through our model, it's going to run it through the `forward()` method."
      ],
      "metadata": {
        "id": "PF7Ecb_7oxUA"
      }
    },
    {
      "cell_type": "code",
      "source": [
        "y_preds  = model_0(X_test)\n",
        "y_preds"
      ],
      "metadata": {
        "colab": {
          "base_uri": "https://localhost:8080/"
        },
        "id": "OxPnPAfwsG58",
        "outputId": "040041e6-61f0-40e9-de56-cc4adb1aae0e"
      },
      "execution_count": 15,
      "outputs": [
        {
          "output_type": "execute_result",
          "data": {
            "text/plain": [
              "tensor([[1.6208],\n",
              "        [1.6385],\n",
              "        [1.6561],\n",
              "        [1.6738],\n",
              "        [1.6914],\n",
              "        [1.7090],\n",
              "        [1.7267],\n",
              "        [1.7443],\n",
              "        [1.7620],\n",
              "        [1.7796]], grad_fn=<AddBackward0>)"
            ]
          },
          "metadata": {},
          "execution_count": 15
        }
      ]
    },
    {
      "cell_type": "code",
      "source": [
        "# Make predictions with model\n",
        "with torch.inference_mode():\n",
        "  y_preds = model_0(X_test)\n",
        "y_preds"
      ],
      "metadata": {
        "colab": {
          "base_uri": "https://localhost:8080/"
        },
        "id": "x6iOVYgiqA5p",
        "outputId": "55de52e5-a8bc-49f4-a414-a1a5ea10d4e5"
      },
      "execution_count": 16,
      "outputs": [
        {
          "output_type": "execute_result",
          "data": {
            "text/plain": [
              "tensor([[1.6208],\n",
              "        [1.6385],\n",
              "        [1.6561],\n",
              "        [1.6738],\n",
              "        [1.6914],\n",
              "        [1.7090],\n",
              "        [1.7267],\n",
              "        [1.7443],\n",
              "        [1.7620],\n",
              "        [1.7796]])"
            ]
          },
          "metadata": {},
          "execution_count": 16
        }
      ]
    },
    {
      "cell_type": "code",
      "source": [
        "plot_predictions(Predictions=y_preds)"
      ],
      "metadata": {
        "colab": {
          "base_uri": "https://localhost:8080/",
          "height": 676
        },
        "id": "qWlFR-UOwoCS",
        "outputId": "6fca5a94-e5c2-4c12-804f-87ef2dd361d4"
      },
      "execution_count": 17,
      "outputs": [
        {
          "output_type": "display_data",
          "data": {
            "text/plain": [
              "<Figure size 1000x800 with 1 Axes>"
            ],
            "image/png": "[encoded data removed]"
          },
          "metadata": {}
        }
      ]
    },
    {
      "cell_type": "markdown",
      "source": [
        "##  Train model\n",
        "\n",
        "The whole idea of training is for a model to move from some *unknown* parameters (these may be random) to some *known* parameters.\n",
        "\n",
        "Or in other words from a poor representation of the data to a better representation of the data.\n",
        "\n",
        "One way to measure how wrong or poor is your models predictions are is to use a loss function.\n",
        "\n",
        "* NOTE: Loss function may also called as cost function or criterion in different areas. for our case, we're going to refer to it as a loss function.\n",
        "\n",
        "Things we need to train:\n",
        "\n",
        "* **Loss function**: A function to measure how wrong your model's predictions are to the ideal outputs, lower is better.\n",
        "\n",
        "* **Optimizer** : Takes into account the loss of model and adjusts the model's parameters (e.g weights & bias in our case) to improve the loss functions.\n",
        "\n",
        " * `params` - the model parameter you would like to optimize, for example `params=model_0.parameters()`\n",
        "\n",
        "* `lr` - learning rate is the hyperparameter that defines how big/small the optimizer changes the parameters with each step (a small `lr` result small changes, a large `lr` resuls in large changes)\n",
        "\n",
        "And specifically for PyTorch, we need:\n",
        "* A training loop\n",
        "* A testing loop\n",
        "\n"
      ],
      "metadata": {
        "id": "Jc06kvasyxES"
      }
    },
    {
      "cell_type": "code",
      "source": [
        "# Setup a loss function\n",
        "loss_fn = nn.L1Loss()\n",
        "\n",
        "# setup optimizer (stochstic gradient descent)\n",
        "optimizer = torch.optim.SGD(params = model_0.parameters(),\n",
        "                            lr=0.01) # lr is learning rate hyperparameter"
      ],
      "metadata": {
        "id": "ieP5fFAw0Kpd"
      },
      "execution_count": 18,
      "outputs": []
    },
    {
      "cell_type": "markdown",
      "source": [
        "###Building training (testing) loop in PyTorch\n",
        "\n",
        "A copule of things we need in a training loop:\n",
        "1. loop through the data\n",
        "2. forward pass (this involve data moving through our model's `forward()` functions)-also called forward propogation.\n",
        "3. Calculate the losss (compare forward pass predictions to ground truth labels)\n",
        "4. Optimizer zero grad\n",
        "5. Loss backward - move backward through the network to calculate the gradient of each of the parameter of our model with respect to the loss.(backpropogation)\n",
        "6. Optimizer setup - use the optimizer to adjust our model's parameters to try and improve the loss (**gradient descent**)"
      ],
      "metadata": {
        "id": "WFBbPg_MCet9"
      }
    },
    {
      "cell_type": "code",
      "source": [
        "# An epochs is one loop through the data....(this is hyperparameter because we set it)\n",
        "epochs = 100\n",
        "\n",
        "epoch_count = []\n",
        "loss_value = []\n",
        "test_loss_value = []\n",
        "\n",
        "# 1. loop through the data\n",
        "for epochs in range(epochs):\n",
        "  #set the model to training mode-train mode in pytorch sets all parameter that require gradients to require gradients\n",
        "  model_0.train()\n",
        "\n",
        "  # 2. forward pass\n",
        "  y_pred = model_0(X_train)\n",
        "\n",
        "  # 3. calculate the loss\n",
        "  loss = loss_fn(y_pred,y_train)\n",
        "\n",
        "  # 4. Optimizer zero grad\n",
        "  optimizer.zero_grad()\n",
        "\n",
        "  # 5. perform backpropagtaion on the loss with respect to the parameter of model\n",
        "  loss.backward()\n",
        "\n",
        "  # 6. step the optmizer (perform gradient descent)\n",
        "  optimizer.step() # byb default hoe the optmizer change will acculumate through the loop so.. we have to zero them above in step 4\n",
        "\n",
        "\n",
        "  ### testing\n",
        "  model_0.eval() # turns off different setting in the model not needed for evaluation/testing(dropout/batch norm layers)\n",
        "  with torch.inference_mode(): # turns off gradient tracking & couple more things behind the scences\n",
        "    # 1. do forward pass\n",
        "    test_pred = model_0(X_test)\n",
        "\n",
        "    # 2. claculate the loss\n",
        "    test_loss = loss_fn(test_pred ,y_test)\n",
        "  # print what's hapning'\n",
        "  if epochs % 10 ==0:\n",
        "    epoch_count.append(epochs)\n",
        "    loss_value.append(loss)\n",
        "    test_loss_value.append(test_loss)\n",
        "    print(f\"Epochs : {epochs}  | Loss : {loss} | Test Loss : {test_loss}\")\n",
        "  # print model state_dict()\n",
        "print(model_0.state_dict())\n"
      ],
      "metadata": {
        "id": "A4YuCoAoGeuL",
        "colab": {
          "base_uri": "https://localhost:8080/"
        },
        "outputId": "70cfa58c-926c-4cc3-eab0-08924ed892d9"
      },
      "execution_count": 19,
      "outputs": [
        {
          "output_type": "stream",
          "name": "stdout",
          "text": [
            "Epochs : 0  | Loss : 0.6860889196395874 | Test Loss : 0.7637526988983154\n",
            "Epochs : 10  | Loss : 0.5708791017532349 | Test Loss : 0.6290428042411804\n",
            "Epochs : 20  | Loss : 0.45566922426223755 | Test Loss : 0.4943329691886902\n",
            "Epochs : 30  | Loss : 0.34045934677124023 | Test Loss : 0.35962313413619995\n",
            "Epochs : 40  | Loss : 0.2252494841814041 | Test Loss : 0.2249133139848709\n",
            "Epochs : 50  | Loss : 0.1100396141409874 | Test Loss : 0.09020347893238068\n",
            "Epochs : 60  | Loss : 0.009724985808134079 | Test Loss : 0.020998019725084305\n",
            "Epochs : 70  | Loss : 0.006216754671186209 | Test Loss : 0.014099234715104103\n",
            "Epochs : 80  | Loss : 0.002788322512060404 | Test Loss : 0.005826681852340698\n",
            "Epochs : 90  | Loss : 0.007095950655639172 | Test Loss : 0.00754010071977973\n",
            "OrderedDict([('weights', tensor([0.6977])), ('bias', tensor([0.3080]))])\n"
          ]
        }
      ]
    },
    {
      "cell_type": "code",
      "source": [
        "# plot the loss curves\n",
        "plt.plot(epoch_count,torch.tensor(loss_value).numpy(), label=\"Train loss\")\n",
        "plt.plot(epoch_count,test_loss_value,label=\"Test loss\")\n",
        "plt.title(\"Training & testing loss curves\")\n",
        "plt.xlabel(\"epochs\")\n",
        "plt.ylabel(\"loss\")\n",
        "plt.legend()"
      ],
      "metadata": {
        "colab": {
          "base_uri": "https://localhost:8080/",
          "height": 489
        },
        "id": "_Pd044aG99Jn",
        "outputId": "4001c3d9-1639-44c9-9faf-452bb77e1a19"
      },
      "execution_count": 20,
      "outputs": [
        {
          "output_type": "execute_result",
          "data": {
            "text/plain": [
              "<matplotlib.legend.Legend at 0x7e1e26e224a0>"
            ]
          },
          "metadata": {},
          "execution_count": 20
        },
        {
          "output_type": "display_data",
          "data": {
            "text/plain": [
              "<Figure size 640x480 with 1 Axes>"
            ],
            "image/png": "[encoded data removed]"
          },
          "metadata": {}
        }
      ]
    },
    {
      "cell_type": "code",
      "source": [
        "plot_predictions(Predictions=y_preds)"
      ],
      "metadata": {
        "colab": {
          "base_uri": "https://localhost:8080/",
          "height": 676
        },
        "id": "hdezY3XCgCEX",
        "outputId": "2495cee6-a046-49c9-dc38-2c8f3812c96b"
      },
      "execution_count": 21,
      "outputs": [
        {
          "output_type": "display_data",
          "data": {
            "text/plain": [
              "<Figure size 1000x800 with 1 Axes>"
            ],
            "image/png": "[encoded data removed]"
          },
          "metadata": {}
        }
      ]
    },
    {
      "cell_type": "code",
      "source": [
        "with torch.inference_mode():\n",
        "  new_preds = model_0(X_test)"
      ],
      "metadata": {
        "id": "Cp2hsZ4Hg77f"
      },
      "execution_count": 22,
      "outputs": []
    },
    {
      "cell_type": "code",
      "source": [
        "weight, bias"
      ],
      "metadata": {
        "colab": {
          "base_uri": "https://localhost:8080/"
        },
        "id": "jy_ZOdxP94YB",
        "outputId": "3a4083ca-2fe7-4de2-bd9e-ff84d40bd937"
      },
      "execution_count": 23,
      "outputs": [
        {
          "output_type": "execute_result",
          "data": {
            "text/plain": [
              "(0.7, 0.3)"
            ]
          },
          "metadata": {},
          "execution_count": 23
        }
      ]
    },
    {
      "cell_type": "code",
      "source": [
        "plot_predictions(Predictions=new_preds)"
      ],
      "metadata": {
        "colab": {
          "base_uri": "https://localhost:8080/",
          "height": 676
        },
        "id": "X5VFROhchYmR",
        "outputId": "5103ba54-be68-4544-ed67-1f9583b49c40"
      },
      "execution_count": 24,
      "outputs": [
        {
          "output_type": "display_data",
          "data": {
            "text/plain": [
              "<Figure size 1000x800 with 1 Axes>"
            ],
            "image/png": "[encoded data removed]"
          },
          "metadata": {}
        }
      ]
    },
    {
      "cell_type": "markdown",
      "source": [
        "## 5. Saving a model in PyTorch\n",
        "\n",
        "There are three main method you should about for saving and loading models in PyTorch.\n",
        "\n",
        "1. `torch.save()` - allows to save a PyTorch object in python's pickle format\n",
        "2. `torch.load()` - allows you to load a saved PyTorch object\n",
        "3. `torch.nn.module.load_state_dict()` - this allows to load a models saved state dictionary"
      ],
      "metadata": {
        "id": "U_Ge-femhdGl"
      }
    },
    {
      "cell_type": "code",
      "source": [
        "model_0.state_dict()"
      ],
      "metadata": {
        "colab": {
          "base_uri": "https://localhost:8080/"
        },
        "id": "KDUKB87wQh9H",
        "outputId": "14641a44-e743-4b2d-8885-5f6336de86ee"
      },
      "execution_count": 25,
      "outputs": [
        {
          "output_type": "execute_result",
          "data": {
            "text/plain": [
              "OrderedDict([('weights', tensor([0.6977])), ('bias', tensor([0.3080]))])"
            ]
          },
          "metadata": {},
          "execution_count": 25
        }
      ]
    },
    {
      "cell_type": "code",
      "source": [
        "# saving our PyTorch model\n",
        "from pathlib import Path\n",
        "\n",
        "# 1, create nodel directory\n",
        "model_path  = Path(\"models\")\n",
        "model_path.mkdir(parents=True,exist_ok=True)\n",
        "\n",
        "# 2. create model save path\n",
        "model_name = 'pytorch_workflow_model_0.pth'\n",
        "model_save_path = model_path / model_name\n",
        "\n",
        "# 3. save the model state dict\n",
        "print(f\"saving model to : {model_save_path}\")\n",
        "torch.save(obj=model_0.state_dict(),f=model_save_path)"
      ],
      "metadata": {
        "colab": {
          "base_uri": "https://localhost:8080/"
        },
        "id": "vR5tpLh5QnQv",
        "outputId": "dc8dd873-e7f8-4323-9862-f5b6a1e81f84"
      },
      "execution_count": 26,
      "outputs": [
        {
          "output_type": "stream",
          "name": "stdout",
          "text": [
            "saving model to : models/pytorch_workflow_model_0.pth\n"
          ]
        }
      ]
    },
    {
      "cell_type": "code",
      "source": [
        "# you can save like this just in one line\n",
        "torch.save(obj=model_0.state_dict(),f=\"/content/MODELS/model_0\")\n",
        "# by inserting the file path and model name"
      ],
      "metadata": {
        "id": "wQ07R72kaIpw"
      },
      "execution_count": 29,
      "outputs": []
    },
    {
      "cell_type": "markdown",
      "source": [
        "##Loading our PyTorch model\n",
        "\n",
        "Since we save our model's `state_dict` rather than entire model, we'll create new instance of our model class and load the save model `state_dict` into that."
      ],
      "metadata": {
        "id": "XwykDbZMhfvd"
      }
    },
    {
      "cell_type": "code",
      "source": [
        "# Loading PyTorch model back\n",
        "loaded_model = LinearRegressionModel()\n",
        "loaded_model.load_state_dict(torch.load(f=\"/content/MODELS/model_0\")) # this will update the new instance with updated parameter"
      ],
      "metadata": {
        "colab": {
          "base_uri": "https://localhost:8080/"
        },
        "id": "q7koOpLsbxK4",
        "outputId": "4e3ce7d4-f0a5-4825-dfb7-70acf5b17f9e"
      },
      "execution_count": 30,
      "outputs": [
        {
          "output_type": "stream",
          "name": "stderr",
          "text": [
            "<ipython-input-30-804a3757e890>:3: FutureWarning: You are using `torch.load` with `weights_only=False` (the current default value), which uses the default pickle module implicitly. It is possible to construct malicious pickle data which will execute arbitrary code during unpickling (See https://github.com/pytorch/pytorch/blob/main/SECURITY.md#untrusted-models for more details). In a future release, the default value for `weights_only` will be flipped to `True`. This limits the functions that could be executed during unpickling. Arbitrary objects will no longer be allowed to be loaded via this mode unless they are explicitly allowlisted by the user via `torch.serialization.add_safe_globals`. We recommend you start setting `weights_only=True` for any use case where you don't have full control of the loaded file. Please open an issue on GitHub for any issues related to this experimental feature.\n",
            "  loaded_model.load_state_dict(torch.load(f=\"/content/MODELS/model_0\")) # this will update the new instance with updated parameter\n"
          ]
        },
        {
          "output_type": "execute_result",
          "data": {
            "text/plain": [
              "<All keys matched successfully>"
            ]
          },
          "metadata": {},
          "execution_count": 30
        }
      ]
    },
    {
      "cell_type": "code",
      "source": [
        "# check the state dict of loaded model\n",
        "loaded_model.state_dict()"
      ],
      "metadata": {
        "colab": {
          "base_uri": "https://localhost:8080/"
        },
        "id": "k9e6I_cmd8eK",
        "outputId": "23359f9b-47d1-4aaf-8de8-6ffdd53f4faf"
      },
      "execution_count": 31,
      "outputs": [
        {
          "output_type": "execute_result",
          "data": {
            "text/plain": [
              "OrderedDict([('weights', tensor([0.6977])), ('bias', tensor([0.3080]))])"
            ]
          },
          "metadata": {},
          "execution_count": 31
        }
      ]
    },
    {
      "cell_type": "code",
      "source": [
        "model_0.state_dict()"
      ],
      "metadata": {
        "colab": {
          "base_uri": "https://localhost:8080/"
        },
        "id": "swt4aJ5Siz1_",
        "outputId": "04a2e473-6f77-4f8f-f8d7-a793971fe4b4"
      },
      "execution_count": 32,
      "outputs": [
        {
          "output_type": "execute_result",
          "data": {
            "text/plain": [
              "OrderedDict([('weights', tensor([0.6977])), ('bias', tensor([0.3080]))])"
            ]
          },
          "metadata": {},
          "execution_count": 32
        }
      ]
    },
    {
      "cell_type": "code",
      "source": [
        "# let's try to make predictions on our loaded model\n",
        "loaded_model.eval()\n",
        "with torch.inference_mode():\n",
        "  loaded_model_preds = loaded_model(X_test)\n",
        "loaded_model_preds\n"
      ],
      "metadata": {
        "colab": {
          "base_uri": "https://localhost:8080/"
        },
        "id": "OTGo2O75hFfO",
        "outputId": "eb9b05ee-aeb2-4b02-91ce-6d1ae7e5e1f8"
      },
      "execution_count": 33,
      "outputs": [
        {
          "output_type": "execute_result",
          "data": {
            "text/plain": [
              "tensor([[0.8661],\n",
              "        [0.8801],\n",
              "        [0.8940],\n",
              "        [0.9080],\n",
              "        [0.9220],\n",
              "        [0.9359],\n",
              "        [0.9499],\n",
              "        [0.9638],\n",
              "        [0.9778],\n",
              "        [0.9917]])"
            ]
          },
          "metadata": {},
          "execution_count": 33
        }
      ]
    },
    {
      "cell_type": "code",
      "source": [
        "# check the preds of original model\n",
        "model_0.eval()\n",
        "with torch.inference_mode():\n",
        "  y_preds = model_0(X_test)\n",
        "y_preds"
      ],
      "metadata": {
        "colab": {
          "base_uri": "https://localhost:8080/"
        },
        "id": "wuDk-ItGlTQS",
        "outputId": "d821d893-8e7a-4b23-d999-1220803fbb5c"
      },
      "execution_count": 34,
      "outputs": [
        {
          "output_type": "execute_result",
          "data": {
            "text/plain": [
              "tensor([[0.8661],\n",
              "        [0.8801],\n",
              "        [0.8940],\n",
              "        [0.9080],\n",
              "        [0.9220],\n",
              "        [0.9359],\n",
              "        [0.9499],\n",
              "        [0.9638],\n",
              "        [0.9778],\n",
              "        [0.9917]])"
            ]
          },
          "metadata": {},
          "execution_count": 34
        }
      ]
    },
    {
      "cell_type": "code",
      "source": [
        "# Compare the loaded model preds with the original ,odel preds\n",
        "loaded_model_preds == y_preds"
      ],
      "metadata": {
        "colab": {
          "base_uri": "https://localhost:8080/"
        },
        "id": "iD9f0RRXkccv",
        "outputId": "a1c516fa-6e05-4b54-99e2-d39f03df6c61"
      },
      "execution_count": 35,
      "outputs": [
        {
          "output_type": "execute_result",
          "data": {
            "text/plain": [
              "tensor([[True],\n",
              "        [True],\n",
              "        [True],\n",
              "        [True],\n",
              "        [True],\n",
              "        [True],\n",
              "        [True],\n",
              "        [True],\n",
              "        [True],\n",
              "        [True]])"
            ]
          },
          "metadata": {},
          "execution_count": 35
        }
      ]
    },
    {
      "cell_type": "markdown",
      "source": [
        "## 6. Putting it all together\n",
        "\n",
        "Let's do the all above steps in once"
      ],
      "metadata": {
        "id": "t1nhP4uTk-vd"
      }
    },
    {
      "cell_type": "code",
      "source": [
        "# import PyTorch and matplotlib\n",
        "import torch\n",
        "from torch import nn\n",
        "import matplotlib.pyplot as plt\n",
        "\n",
        " # check version\n",
        "torch.__version__"
      ],
      "metadata": {
        "colab": {
          "base_uri": "https://localhost:8080/",
          "height": 35
        },
        "id": "KVwbKrpaokiQ",
        "outputId": "f7411c31-d2ad-4a14-b0d2-82faebb42273"
      },
      "execution_count": 36,
      "outputs": [
        {
          "output_type": "execute_result",
          "data": {
            "text/plain": [
              "'2.4.0+cu121'"
            ],
            "application/vnd.google.colaboratory.intrinsic+json": {
              "type": "string"
            }
          },
          "metadata": {},
          "execution_count": 36
        }
      ]
    },
    {
      "cell_type": "markdown",
      "source": [
        "Create device-agnostic code.\n",
        "\n",
        "This means if we got access to a GPU, our model will use it(potentially for faster computing)\n",
        "\n",
        "If no GPU is avilable, the code will default to using the CPU."
      ],
      "metadata": {
        "id": "4ZZAAjKdpJRA"
      }
    },
    {
      "cell_type": "code",
      "source": [
        "# set up device agnostic code\n",
        "device = \"cuda\" if torch.cuda.is_available() else \"cpu\"\n",
        "print(f\"Using device : {device}\")"
      ],
      "metadata": {
        "colab": {
          "base_uri": "https://localhost:8080/"
        },
        "id": "63zvIGnVpyi4",
        "outputId": "24c63ed5-6ee0-4915-f65c-665f380f84d8"
      },
      "execution_count": 37,
      "outputs": [
        {
          "output_type": "stream",
          "name": "stdout",
          "text": [
            "Using device : cuda\n"
          ]
        }
      ]
    },
    {
      "cell_type": "markdown",
      "source": [
        "### 6.1 Data"
      ],
      "metadata": {
        "id": "vvYWYiz1oQTa"
      }
    },
    {
      "cell_type": "code",
      "source": [
        "# prepare data using linear regression formula y=mx+b\n",
        "weight = 0.24\n",
        "bias = 0.10\n",
        "\n",
        "# create a range value\n",
        "satrt =0\n",
        "end = 1\n",
        "step = 0.03\n",
        "\n",
        "# Create X and y (feature and labels)\n",
        "X = torch.arange(satrt,end,step).unsqueeze(dim=1)\n",
        "y = weight * X + bias\n",
        "\n",
        "X[:10] , y[:10]"
      ],
      "metadata": {
        "colab": {
          "base_uri": "https://localhost:8080/"
        },
        "id": "PcrUAJPjsfFi",
        "outputId": "da8e54b5-0452-404e-ff65-4ed0020e0438"
      },
      "execution_count": 38,
      "outputs": [
        {
          "output_type": "execute_result",
          "data": {
            "text/plain": [
              "(tensor([[0.0000],\n",
              "         [0.0300],\n",
              "         [0.0600],\n",
              "         [0.0900],\n",
              "         [0.1200],\n",
              "         [0.1500],\n",
              "         [0.1800],\n",
              "         [0.2100],\n",
              "         [0.2400],\n",
              "         [0.2700]]),\n",
              " tensor([[0.1000],\n",
              "         [0.1072],\n",
              "         [0.1144],\n",
              "         [0.1216],\n",
              "         [0.1288],\n",
              "         [0.1360],\n",
              "         [0.1432],\n",
              "         [0.1504],\n",
              "         [0.1576],\n",
              "         [0.1648]]))"
            ]
          },
          "metadata": {},
          "execution_count": 38
        }
      ]
    },
    {
      "cell_type": "code",
      "source": [
        "# split the data\n",
        "train_split = int(0.8 * len(X))\n",
        "X_train , y_train = X[:train_split], y[:train_split]\n",
        "X_test , y_test = X[train_split:] , y[train_split:]\n",
        "len(X_train),len(y_train),len(X_test),len(y_test)"
      ],
      "metadata": {
        "colab": {
          "base_uri": "https://localhost:8080/"
        },
        "id": "GADMjCaktq89",
        "outputId": "8bee2df4-cbce-4df7-ac60-0d6b5b96b0bd"
      },
      "execution_count": 39,
      "outputs": [
        {
          "output_type": "execute_result",
          "data": {
            "text/plain": [
              "(27, 27, 7, 7)"
            ]
          },
          "metadata": {},
          "execution_count": 39
        }
      ]
    },
    {
      "cell_type": "code",
      "source": [
        "# plot the data\n",
        "# Note: if you don't have plot_prediction finction loaded , this will error\n",
        "plot_predictions(X_train,y_train,X_test,y_test)"
      ],
      "metadata": {
        "colab": {
          "base_uri": "https://localhost:8080/",
          "height": 676
        },
        "id": "0wPmtohyvQ_S",
        "outputId": "28bef85a-c231-4e8b-f8cb-f61fd89080f3"
      },
      "execution_count": 40,
      "outputs": [
        {
          "output_type": "display_data",
          "data": {
            "text/plain": [
              "<Figure size 1000x800 with 1 Axes>"
            ],
            "image/png": "[encoded data removed]"
          },
          "metadata": {}
        }
      ]
    },
    {
      "cell_type": "markdown",
      "source": [
        "### 6.2 Building a linear model"
      ],
      "metadata": {
        "id": "R1kHfk4dxL--"
      }
    },
    {
      "cell_type": "code",
      "source": [
        "# create linear model by subclassing nn.module\n",
        "class LinearRegressionModel2(nn.Module):\n",
        "  def __init__(self):\n",
        "    super().__init__()\n",
        "    # Use nn.Linear() for creating the model parameter / also called as probing layer , dens layer , linear transform\n",
        "    self.Linear_layer = nn.Linear(in_features=1,\n",
        "                                  out_features=1)\n",
        "\n",
        "  def forward(self,X:torch.Tensor) -> torch.Tensor:\n",
        "    return self.Linear_layer(X)\n",
        "\n",
        "# set the random seed\n",
        "torch.manual_seed(42)\n",
        "\n",
        "# create the instance of the class\n",
        "model_1 = LinearRegressionModel2()\n",
        "model_1 , model_1.state_dict()"
      ],
      "metadata": {
        "colab": {
          "base_uri": "https://localhost:8080/"
        },
        "id": "nCCmyTINxkXZ",
        "outputId": "81d1f992-90e2-4ee9-d9c6-1b40ce58e48e"
      },
      "execution_count": 41,
      "outputs": [
        {
          "output_type": "execute_result",
          "data": {
            "text/plain": [
              "(LinearRegressionModel2(\n",
              "   (Linear_layer): Linear(in_features=1, out_features=1, bias=True)\n",
              " ),\n",
              " OrderedDict([('Linear_layer.weight', tensor([[0.7645]])),\n",
              "              ('Linear_layer.bias', tensor([0.8300]))]))"
            ]
          },
          "metadata": {},
          "execution_count": 41
        }
      ]
    },
    {
      "cell_type": "code",
      "source": [
        "# check the model current device\n",
        "next(model_1.parameters()).device"
      ],
      "metadata": {
        "colab": {
          "base_uri": "https://localhost:8080/"
        },
        "id": "Uc3V3XE-3sTC",
        "outputId": "3b634a9b-8485-4634-8bc5-2d697961cfea"
      },
      "execution_count": 42,
      "outputs": [
        {
          "output_type": "execute_result",
          "data": {
            "text/plain": [
              "device(type='cpu')"
            ]
          },
          "metadata": {},
          "execution_count": 42
        }
      ]
    },
    {
      "cell_type": "code",
      "source": [
        "# set the model to use the target device\n",
        "model_1.to(device)\n",
        "next(model_1.parameters()).device"
      ],
      "metadata": {
        "colab": {
          "base_uri": "https://localhost:8080/"
        },
        "id": "cIkkMGmS9Vth",
        "outputId": "775c11d9-e9ba-46ee-a3ff-4223eba2b8fb"
      },
      "execution_count": 43,
      "outputs": [
        {
          "output_type": "execute_result",
          "data": {
            "text/plain": [
              "device(type='cuda', index=0)"
            ]
          },
          "metadata": {},
          "execution_count": 43
        }
      ]
    },
    {
      "cell_type": "markdown",
      "source": [
        "### 6.3 Training\n",
        "\n",
        "For training we need :\n",
        "* Loss function\n",
        "* Optimizer\n",
        "* Training loop\n",
        "* Testing loop"
      ],
      "metadata": {
        "id": "Us2Aqlkh_FjB"
      }
    },
    {
      "cell_type": "code",
      "source": [
        "# setup the loss function\n",
        "loss_fn = nn.L1Loss() # same as the MAE\n",
        "\n",
        "# setup optimizer\n",
        "optimizer = torch.optim.SGD(params=model_1.parameters(),\n",
        "                            lr=0.01)\n"
      ],
      "metadata": {
        "id": "OoKg_7X2-ZIn"
      },
      "execution_count": 44,
      "outputs": []
    },
    {
      "cell_type": "code",
      "source": [
        "# Let's write training loop\n",
        "\n",
        "# set random seed\n",
        "torch.manual_seed(42)\n",
        "\n",
        "epochs = 200\n",
        "\n",
        "# put data on the target device (device agnostic code)\n",
        "X_train = X_train.to(device)\n",
        "y_train = y_train.to(device)\n",
        "X_test = X_test.to(device)\n",
        "y_test = y_test.to(device)\n",
        "\n",
        "for epoch in range(epochs):\n",
        "  model_1.train()\n",
        "\n",
        "  # 1. forward pass\n",
        "  y_pred = model_1(X_train)\n",
        "\n",
        "  # 2. calculate the loss\n",
        "  loss = loss_fn(y_pred,y_train)\n",
        "\n",
        "  # 3. optimizer zero grad\n",
        "  optimizer.zero_grad()\n",
        "\n",
        "  # 4. perform backpropagation\n",
        "  loss.backward()\n",
        "\n",
        "  # 5. optimizer step\n",
        "  optimizer.step()\n",
        "\n",
        "  ### Testing\n",
        "  model_1.eval()\n",
        "  with torch.inference_mode():\n",
        "    test_pred = model_1(X_test)\n",
        "    test_loss = loss_fn(test_pred,y_test)\n",
        "\n",
        "# print out what's happning\n",
        "  if epoch % 10 == 0:\n",
        "    print(f\"Epoch : {epoch} | Loss : {loss} | Test loss : {test_loss}\")\n",
        "\n"
      ],
      "metadata": {
        "colab": {
          "base_uri": "https://localhost:8080/"
        },
        "id": "B0JVCWNrAFlH",
        "outputId": "58c8f7db-baf5-4804-ff02-a254375d4a38"
      },
      "execution_count": 45,
      "outputs": [
        {
          "output_type": "stream",
          "name": "stdout",
          "text": [
            "Epoch : 0 | Loss : 0.9345779418945312 | Test loss : 1.1885826587677002\n",
            "Epoch : 10 | Loss : 0.8193680644035339 | Test loss : 1.0534827709197998\n",
            "Epoch : 20 | Loss : 0.7041582465171814 | Test loss : 0.918383002281189\n",
            "Epoch : 30 | Loss : 0.5889483094215393 | Test loss : 0.7832831144332886\n",
            "Epoch : 40 | Loss : 0.4737384617328644 | Test loss : 0.648183286190033\n",
            "Epoch : 50 | Loss : 0.3585285544395447 | Test loss : 0.5130834579467773\n",
            "Epoch : 60 | Loss : 0.24331866204738617 | Test loss : 0.37798359990119934\n",
            "Epoch : 70 | Loss : 0.1281086653470993 | Test loss : 0.2428836226463318\n",
            "Epoch : 80 | Loss : 0.04970657452940941 | Test loss : 0.1353895664215088\n",
            "Epoch : 90 | Loss : 0.037877507507801056 | Test loss : 0.09579331427812576\n",
            "Epoch : 100 | Loss : 0.033922430127859116 | Test loss : 0.08059549331665039\n",
            "Epoch : 110 | Loss : 0.030352145433425903 | Test loss : 0.07046136260032654\n",
            "Epoch : 120 | Loss : 0.026843830943107605 | Test loss : 0.06236870214343071\n",
            "Epoch : 130 | Loss : 0.023334437981247902 | Test loss : 0.054276034235954285\n",
            "Epoch : 140 | Loss : 0.01981322467327118 | Test loss : 0.046183373779058456\n",
            "Epoch : 150 | Loss : 0.016292018815875053 | Test loss : 0.03809070214629173\n",
            "Epoch : 160 | Loss : 0.01277957670390606 | Test loss : 0.0289772842079401\n",
            "Epoch : 170 | Loss : 0.009271262213587761 | Test loss : 0.02088460512459278\n",
            "Epoch : 180 | Loss : 0.005761957727372646 | Test loss : 0.01279192790389061\n",
            "Epoch : 190 | Loss : 0.002240753034129739 | Test loss : 0.004699251614511013\n"
          ]
        }
      ]
    },
    {
      "cell_type": "code",
      "source": [
        "weight, bias"
      ],
      "metadata": {
        "colab": {
          "base_uri": "https://localhost:8080/"
        },
        "id": "m0EWRtV9Avxw",
        "outputId": "17e756c1-b4d0-438b-9775-47e75ef105bc"
      },
      "execution_count": 46,
      "outputs": [
        {
          "output_type": "execute_result",
          "data": {
            "text/plain": [
              "(0.24, 0.1)"
            ]
          },
          "metadata": {},
          "execution_count": 46
        }
      ]
    },
    {
      "cell_type": "code",
      "source": [
        "model_1.state_dict()"
      ],
      "metadata": {
        "colab": {
          "base_uri": "https://localhost:8080/"
        },
        "id": "ethJcA9TJCOB",
        "outputId": "94cf2b3e-99ea-4921-b9c5-c6afb0e052b9"
      },
      "execution_count": 47,
      "outputs": [
        {
          "output_type": "execute_result",
          "data": {
            "text/plain": [
              "OrderedDict([('Linear_layer.weight', tensor([[0.2420]], device='cuda:0')),\n",
              "             ('Linear_layer.bias', tensor([0.0952], device='cuda:0'))])"
            ]
          },
          "metadata": {},
          "execution_count": 47
        }
      ]
    },
    {
      "cell_type": "markdown",
      "source": [
        "### 6.4 Making predicetions and evaluating"
      ],
      "metadata": {
        "id": "vdl1hAGDKihm"
      }
    },
    {
      "cell_type": "code",
      "source": [
        "# Turn model in to evaluation mode\n",
        "model_1.eval()\n",
        "\n",
        "# make predictions\n",
        "with torch.inference_mode():\n",
        "  model_1_y_preds = model_1(X_test)\n",
        "model_1_y_preds"
      ],
      "metadata": {
        "colab": {
          "base_uri": "https://localhost:8080/"
        },
        "id": "ERMookFqJGkI",
        "outputId": "69565181-225a-49b4-e695-42dc55bdaa29"
      },
      "execution_count": 48,
      "outputs": [
        {
          "output_type": "execute_result",
          "data": {
            "text/plain": [
              "tensor([[0.2913],\n",
              "        [0.2985],\n",
              "        [0.3058],\n",
              "        [0.3130],\n",
              "        [0.3203],\n",
              "        [0.3276],\n",
              "        [0.3348]], device='cuda:0')"
            ]
          },
          "metadata": {},
          "execution_count": 48
        }
      ]
    },
    {
      "cell_type": "code",
      "source": [
        "# check out our model predictions visually\n",
        "plot_predictions(Predictions = y_preds.cpu())"
      ],
      "metadata": {
        "colab": {
          "base_uri": "https://localhost:8080/",
          "height": 676
        },
        "id": "83M89ijBLCBP",
        "outputId": "36b7200b-4ce5-4b77-e73e-03460c779de0"
      },
      "execution_count": 49,
      "outputs": [
        {
          "output_type": "display_data",
          "data": {
            "text/plain": [
              "<Figure size 1000x800 with 1 Axes>"
            ],
            "image/png": "[encoded data removed]"
          },
          "metadata": {}
        }
      ]
    },
    {
      "cell_type": "markdown",
      "source": [
        "### 6.5 Saving and loading model"
      ],
      "metadata": {
        "id": "S_1EhMTFskye"
      }
    },
    {
      "cell_type": "code",
      "source": [
        "# Saving model --> to MODELS\n",
        "torch.save(obj=model_1.state_dict(),\n",
        "           f=\"/content/MODELS/model_1\")"
      ],
      "metadata": {
        "id": "0-Au9EXSL4WN"
      },
      "execution_count": 50,
      "outputs": []
    },
    {
      "cell_type": "code",
      "source": [
        "# Loading model back\n",
        "# create new instance of LinearRegression\n",
        "loaded_model_1 = LinearRegressionModel2()\n",
        "\n",
        "# load the saved model\n",
        "loaded_model_1.load_state_dict(torch.load(f=\"/content/MODELS/model_1\"))\n",
        "\n",
        "# put the loaded model to device\n",
        "loaded_model_1.to(device)"
      ],
      "metadata": {
        "colab": {
          "base_uri": "https://localhost:8080/"
        },
        "id": "m0HPIKgMtVLY",
        "outputId": "24e3929d-e0a8-49a2-8473-b7d10e37e294"
      },
      "execution_count": 51,
      "outputs": [
        {
          "output_type": "stream",
          "name": "stderr",
          "text": [
            "<ipython-input-51-de2299817693>:6: FutureWarning: You are using `torch.load` with `weights_only=False` (the current default value), which uses the default pickle module implicitly. It is possible to construct malicious pickle data which will execute arbitrary code during unpickling (See https://github.com/pytorch/pytorch/blob/main/SECURITY.md#untrusted-models for more details). In a future release, the default value for `weights_only` will be flipped to `True`. This limits the functions that could be executed during unpickling. Arbitrary objects will no longer be allowed to be loaded via this mode unless they are explicitly allowlisted by the user via `torch.serialization.add_safe_globals`. We recommend you start setting `weights_only=True` for any use case where you don't have full control of the loaded file. Please open an issue on GitHub for any issues related to this experimental feature.\n",
            "  loaded_model_1.load_state_dict(torch.load(f=\"/content/MODELS/model_1\"))\n"
          ]
        },
        {
          "output_type": "execute_result",
          "data": {
            "text/plain": [
              "LinearRegressionModel2(\n",
              "  (Linear_layer): Linear(in_features=1, out_features=1, bias=True)\n",
              ")"
            ]
          },
          "metadata": {},
          "execution_count": 51
        }
      ]
    },
    {
      "cell_type": "code",
      "source": [
        "next(loaded_model_1.parameters()).device"
      ],
      "metadata": {
        "colab": {
          "base_uri": "https://localhost:8080/"
        },
        "id": "AeBu__tO0hX3",
        "outputId": "54cbb233-0983-4148-9bbb-61dcbb658334"
      },
      "execution_count": 52,
      "outputs": [
        {
          "output_type": "execute_result",
          "data": {
            "text/plain": [
              "device(type='cuda', index=0)"
            ]
          },
          "metadata": {},
          "execution_count": 52
        }
      ]
    },
    {
      "cell_type": "code",
      "source": [
        "loaded_model_1.state_dict()"
      ],
      "metadata": {
        "colab": {
          "base_uri": "https://localhost:8080/"
        },
        "id": "CI3BMuS91sqX",
        "outputId": "85483b05-8822-4fa8-9506-e170abdf3cbf"
      },
      "execution_count": 53,
      "outputs": [
        {
          "output_type": "execute_result",
          "data": {
            "text/plain": [
              "OrderedDict([('Linear_layer.weight', tensor([[0.2420]], device='cuda:0')),\n",
              "             ('Linear_layer.bias', tensor([0.0952], device='cuda:0'))])"
            ]
          },
          "metadata": {},
          "execution_count": 53
        }
      ]
    },
    {
      "cell_type": "code",
      "source": [
        "# Evalute the loaded model\n",
        "loaded_model.eval()\n",
        "with torch.inference_mode():\n",
        "  loaded_model_1_preds = loaded_model_1(X_test)\n",
        "model_1_y_preds == loaded_model_1_preds"
      ],
      "metadata": {
        "colab": {
          "base_uri": "https://localhost:8080/"
        },
        "id": "aCj1fi4o1yZo",
        "outputId": "fb26f6d6-8644-4e88-9851-a74d9bd9ff4f"
      },
      "execution_count": 62,
      "outputs": [
        {
          "output_type": "execute_result",
          "data": {
            "text/plain": [
              "tensor([[True],\n",
              "        [True],\n",
              "        [True],\n",
              "        [True],\n",
              "        [True],\n",
              "        [True],\n",
              "        [True]], device='cuda:0')"
            ]
          },
          "metadata": {},
          "execution_count": 62
        }
      ]
    },
    {
      "cell_type": "code",
      "source": [],
      "metadata": {
        "id": "yxLJO3hQ2QFt"
      },
      "execution_count": null,
      "outputs": []
    }
  ]
}